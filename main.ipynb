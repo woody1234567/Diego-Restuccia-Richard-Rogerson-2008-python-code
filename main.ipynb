{
 "cells": [
  {
   "cell_type": "markdown",
   "metadata": {},
   "source": [
    "## preparing"
   ]
  },
  {
   "cell_type": "markdown",
   "metadata": {},
   "source": [
    "### import the package "
   ]
  },
  {
   "cell_type": "code",
   "execution_count": 146,
   "metadata": {},
   "outputs": [],
   "source": [
    "import pandas as pd #\n",
    "import numpy as np # \n",
    "import  matplotlib.pyplot as plt"
   ]
  },
  {
   "cell_type": "code",
   "execution_count": 147,
   "metadata": {},
   "outputs": [],
   "source": [
    "alpha=.85/3; #capital\n",
    "#beta=.85/3; #energy\n",
    "gamma=.85/3*2; #labor\n",
    "beta_dis=0.96; # the discount factor\n",
    "delta=0.08;  #depreciation rate\n",
    "nu=1.0; #energy price\n",
    "S=1; #scale "
   ]
  },
  {
   "cell_type": "markdown",
   "metadata": {},
   "source": [
    "### Consumer's optimal choice"
   ]
  },
  {
   "cell_type": "code",
   "execution_count": 148,
   "metadata": {},
   "outputs": [],
   "source": [
    "r=1/beta_dis-(1-delta)\n",
    "R=r-delta"
   ]
  },
  {
   "cell_type": "markdown",
   "metadata": {},
   "source": [
    "### read in the firms' employees data"
   ]
  },
  {
   "cell_type": "code",
   "execution_count": 149,
   "metadata": {},
   "outputs": [],
   "source": [
    "# If the text file is delimited by tabs\n",
    "firms_data=pd.read_csv('establishment_dist.txt', delimiter = '\\t',header=None).rename(columns={0:\"firms_size\",1:\"firms_proportion\"})\n",
    "#firms_data"
   ]
  },
  {
   "cell_type": "markdown",
   "metadata": {},
   "source": [
    "### construting the theoretical cumulative distribution of the firm's employees size"
   ]
  },
  {
   "cell_type": "markdown",
   "metadata": {},
   "source": [
    "#### empirical distribution"
   ]
  },
  {
   "cell_type": "code",
   "execution_count": 150,
   "metadata": {},
   "outputs": [
    {
     "data": {
      "text/plain": [
       "array([1.        , 1.01405289, 1.02830326, 1.04275389, 1.05740759,\n",
       "       1.07226722, 1.08733567, 1.10261588, 1.11811082, 1.1338235 ,\n",
       "       1.149757  , 1.1659144 , 1.18229887, 1.19891358, 1.21576178,\n",
       "       1.23284674, 1.2501718 , 1.26774032, 1.28555573, 1.3036215 ,\n",
       "       1.32194115, 1.34051824, 1.35935639, 1.37845927, 1.39783061,\n",
       "       1.41747416, 1.43739377, 1.4575933 , 1.4780767 , 1.49884794,\n",
       "       1.51991108, 1.54127022, 1.56292952, 1.58489319, 1.60716552,\n",
       "       1.62975083, 1.65265354, 1.67587809, 1.69942902, 1.72331091,\n",
       "       1.7475284 , 1.77208622, 1.79698915, 1.82224203, 1.8478498 ,\n",
       "       1.87381742, 1.90014997, 1.92685256, 1.9539304 , 1.98138877,\n",
       "       2.009233  , 2.03746853, 2.06610084, 2.09513553, 2.12457823,\n",
       "       2.15443469, 2.18471072, 2.21541221, 2.24654515, 2.2781156 ,\n",
       "       2.3101297 , 2.34259369, 2.3755139 , 2.40889673, 2.44274868,\n",
       "       2.47707636, 2.51188643, 2.54718569, 2.582981  , 2.61927934,\n",
       "       2.65608778, 2.69341349, 2.73126372, 2.76964586, 2.80856739,\n",
       "       2.84803587, 2.888059  , 2.92864456, 2.96980048, 3.01153475,\n",
       "       3.05385551, 3.096771  , 3.14028957, 3.18441971, 3.22917   ,\n",
       "       3.27454916, 3.32056603, 3.36722958, 3.41454887, 3.46253315,\n",
       "       3.51119173, 3.56053412, 3.6105699 , 3.66130884, 3.7127608 ,\n",
       "       3.76493581, 3.81784403, 3.87149576, 3.92590145, 3.98107171])"
      ]
     },
     "execution_count": 150,
     "metadata": {},
     "output_type": "execute_result"
    }
   ],
   "source": [
    "ns = 100  # number of the firm's productivity grid\n",
    "ndata = firms_data.shape[0]  # number of the firm's size data\n",
    "s_max = firms_data[\"firms_size\"][ndata-1]**(1-gamma-alpha)  # z_ns represents the upper bound of firm's productivity\n",
    "s_grid = np.logspace(0, np.log10(s_max), ns)  # why log10? Ans： easier to plot the log10 view and creating the grid\n",
    "n_grid = s_grid**(1/(1-gamma-alpha))  # mapping the productivity grid to the numbers of employees\n",
    "theo_hs = np.zeros(ns)\n",
    "s_grid"
   ]
  },
  {
   "cell_type": "markdown",
   "metadata": {},
   "source": [
    "### adding a extra [0,0] row to complete the dist\n",
    "do this part once"
   ]
  },
  {
   "cell_type": "code",
   "execution_count": 151,
   "metadata": {},
   "outputs": [],
   "source": [
    "# Assuming df is your DataFrame and new_row is a dictionary where the keys are \n",
    "#column names and the values are the data for the new row\n",
    "new_row=[0,0]\n",
    "firms_data.loc[-1] = new_row\n",
    "firms_data.index = firms_data.index + 1  # shifting index\n",
    "firms_data= firms_data.sort_index()  # sorting by index\n",
    "cum_sum_firms_data = np.cumsum(firms_data)"
   ]
  },
  {
   "cell_type": "code",
   "execution_count": 152,
   "metadata": {},
   "outputs": [
    {
     "name": "stderr",
     "output_type": "stream",
     "text": [
      "C:\\Users\\johan\\AppData\\Local\\Temp\\ipykernel_8108\\1021378504.py:5: RuntimeWarning: divide by zero encountered in scalar divide\n",
      "  theo_hs[I] = firms_data[\"firms_proportion\"][i] / len(I)\n"
     ]
    },
    {
     "data": {
      "text/html": [
       "<div>\n",
       "<style scoped>\n",
       "    .dataframe tbody tr th:only-of-type {\n",
       "        vertical-align: middle;\n",
       "    }\n",
       "\n",
       "    .dataframe tbody tr th {\n",
       "        vertical-align: top;\n",
       "    }\n",
       "\n",
       "    .dataframe thead th {\n",
       "        text-align: right;\n",
       "    }\n",
       "</style>\n",
       "<table border=\"1\" class=\"dataframe\">\n",
       "  <thead>\n",
       "    <tr style=\"text-align: right;\">\n",
       "      <th></th>\n",
       "      <th>firms_proportion</th>\n",
       "    </tr>\n",
       "    <tr>\n",
       "      <th>firms_size</th>\n",
       "      <th></th>\n",
       "    </tr>\n",
       "  </thead>\n",
       "  <tbody>\n",
       "    <tr>\n",
       "      <th>0</th>\n",
       "      <td>0.032157</td>\n",
       "    </tr>\n",
       "    <tr>\n",
       "      <th>1</th>\n",
       "      <td>0.032157</td>\n",
       "    </tr>\n",
       "    <tr>\n",
       "      <th>2</th>\n",
       "      <td>0.032157</td>\n",
       "    </tr>\n",
       "    <tr>\n",
       "      <th>3</th>\n",
       "      <td>0.032157</td>\n",
       "    </tr>\n",
       "    <tr>\n",
       "      <th>4</th>\n",
       "      <td>0.032157</td>\n",
       "    </tr>\n",
       "    <tr>\n",
       "      <th>...</th>\n",
       "      <td>...</td>\n",
       "    </tr>\n",
       "    <tr>\n",
       "      <th>95</th>\n",
       "      <td>0.000007</td>\n",
       "    </tr>\n",
       "    <tr>\n",
       "      <th>96</th>\n",
       "      <td>0.000007</td>\n",
       "    </tr>\n",
       "    <tr>\n",
       "      <th>97</th>\n",
       "      <td>0.000007</td>\n",
       "    </tr>\n",
       "    <tr>\n",
       "      <th>98</th>\n",
       "      <td>0.000007</td>\n",
       "    </tr>\n",
       "    <tr>\n",
       "      <th>99</th>\n",
       "      <td>0.000000</td>\n",
       "    </tr>\n",
       "  </tbody>\n",
       "</table>\n",
       "<p>100 rows × 1 columns</p>\n",
       "</div>"
      ],
      "text/plain": [
       "            firms_proportion\n",
       "firms_size                  \n",
       "0                   0.032157\n",
       "1                   0.032157\n",
       "2                   0.032157\n",
       "3                   0.032157\n",
       "4                   0.032157\n",
       "...                      ...\n",
       "95                  0.000007\n",
       "96                  0.000007\n",
       "97                  0.000007\n",
       "98                  0.000007\n",
       "99                  0.000000\n",
       "\n",
       "[100 rows x 1 columns]"
      ]
     },
     "execution_count": 152,
     "metadata": {},
     "output_type": "execute_result"
    }
   ],
   "source": [
    "for i in range(1, len(firms_data)):\n",
    "    #print(i)\n",
    "    I = np.where((n_grid <= firms_data[\"firms_size\"][i]) & (n_grid > firms_data[\"firms_size\"][i-1]))[0]\n",
    "    #print(I)\n",
    "    theo_hs[I] = firms_data[\"firms_proportion\"][i] / len(I)\n",
    "theo_firm_size_dist=pd.DataFrame(theo_hs).rename(columns={0:\"firms_proportion\"})\n",
    "theo_firm_size_dist.index.rename(\"firms_size\",inplace=True)\n",
    "theo_firm_size_dist"
   ]
  },
  {
   "cell_type": "code",
   "execution_count": 153,
   "metadata": {},
   "outputs": [
    {
     "name": "stderr",
     "output_type": "stream",
     "text": [
      "C:\\Users\\johan\\AppData\\Local\\Temp\\ipykernel_8108\\2274218911.py:13: UserWarning: Attempt to set non-positive xlim on a log-scaled axis will be ignored.\n",
      "  plt.axis([0, 14000, 0, 1.1])\n"
     ]
    },
    {
     "data": {
      "image/png": "[encoded data removed]",
      "text/plain": [
       "<Figure size 640x480 with 1 Axes>"
      ]
     },
     "metadata": {},
     "output_type": "display_data"
    }
   ],
   "source": [
    "import matplotlib.pyplot as plt\n",
    "import numpy as np\n",
    "\n",
    "fig = 1\n",
    "if fig == 1:\n",
    "    plt.figure()\n",
    "    plt.semilogx(n_grid, np.cumsum(theo_firm_size_dist[\"firms_proportion\"]), '-',color=\"blue\",linewidth=2)\n",
    "    plt.semilogx(firms_data[\"firms_size\"], cum_sum_firms_data, 'o', color=\"orange\")\n",
    "    plt.xticks([1, 10, 100, 1000, 10000], ['1', '10', '100', '1,000', '10,000'])\n",
    "    plt.xlabel('Number of Employees (log scale)')\n",
    "    plt.ylabel('Cummulative Distribution of Establishments')\n",
    "    plt.legend(['Model', 'Data'], loc='upper left')\n",
    "    plt.axis([0, 14000, 0, 1.1])\n",
    "    plt.show()"
   ]
  },
  {
   "cell_type": "markdown",
   "metadata": {},
   "source": [
    "# benchmark model"
   ]
  },
  {
   "cell_type": "code",
   "execution_count": 154,
   "metadata": {},
   "outputs": [],
   "source": [
    "ntau=3;# number of different tax(capital,labor and the total output)\n",
    "# Assume constant separation rates across plants: lambda (if separation\n",
    "# rate depends on s need to create a matrix rho)\n",
    "cf=0; # the fuxed cost of the production\n",
    "ce=1; # the entrance cost to enter the market\n",
    "lambda_exit =0.10; # the exit rate to get out of the market\n",
    "rho=(1-lambda_exit)/(1+R);  # the discount factor to discount the steady state welfare"
   ]
  },
  {
   "cell_type": "markdown",
   "metadata": {},
   "source": [
    "### without taxation and subsidy"
   ]
  },
  {
   "cell_type": "code",
   "execution_count": 155,
   "metadata": {},
   "outputs": [],
   "source": [
    "p = np.vstack((np.zeros(ns), np.ones(ns), np.zeros(ns))).T #300*3\n",
    "hsmatrix = np.outer(theo_firm_size_dist, np.ones(ntau)) \n",
    "g = hsmatrix*p  #hs 100*3 ; p 100*3  elementwise multiplication  (s,tau)\n",
    "smatrix = np.outer(S*s_grid, np.ones(ntau))\n",
    "taus = 0.0 #the subsidy\n",
    "tau = 0.0 #the tax\n",
    "#In the benchmark case, the subsidy and the tax are equal to zero.\n",
    "tauv = np.array([-taus, 0, tau])\n",
    "mtau = np.outer(np.ones(ns), tauv)\n",
    "mtauo = mtau\n",
    "mtauk = np.zeros((ns, ntau)) #tax on capital\n",
    "mtaun = np.zeros((ns, ntau)) #tax on labor\n",
    "#mtaue = np.zeros((ns, ntau)) #tax on energy"
   ]
  },
  {
   "cell_type": "markdown",
   "metadata": {},
   "source": [
    "### bisection on equilibrium wage"
   ]
  },
  {
   "cell_type": "markdown",
   "metadata": {},
   "source": [
    "#### the initial guess"
   ]
  },
  {
   "cell_type": "code",
   "execution_count": 156,
   "metadata": {},
   "outputs": [
    {
     "name": "stdout",
     "output_type": "stream",
     "text": [
      "10.199953583859871\n"
     ]
    }
   ],
   "source": [
    "\n",
    "import numpy as np\n",
    "from We_function import We_function\n",
    "w_0=1.0 \n",
    "Output0=We_function(w_0,r, smatrix, alpha, gamma, mtauk, mtaun, mtauo, rho, g, ce, cf, ns, ntau)\n",
    "We0=Output0[0]\n",
    "print(We0)\n",
    "# the output sequence of the function We \n",
    "# We,k_bar,n_bar,pi_bar,W,xbar,\n",
    "w_1=1.5;\n",
    "Output1=We_function(w_1,r, smatrix, alpha, gamma, mtauk, mtaun, mtauo, rho, g, ce, cf, ns, ntau)\n",
    "We1=Output1[0]\n"
   ]
  },
  {
   "cell_type": "markdown",
   "metadata": {},
   "source": [
    "#### verifying whether the initial guess is good to go"
   ]
  },
  {
   "cell_type": "code",
   "execution_count": 157,
   "metadata": {},
   "outputs": [],
   "source": [
    "while We0 * We1 > 0:\n",
    "    if We0 < 0:\n",
    "        w_0 = w_0 * 0.5\n",
    "        Output0 = We_function(w_0,r, smatrix, alpha, gamma, mtauk, mtaun, mtauo, rho, g, ce, cf, ns, ntau)\n",
    "        We0=Output0[0]\n",
    "    if We1 > 0:\n",
    "        w_1 = w_1 * 1.5\n",
    "        Output1 = We_function(w_1,r, smatrix, alpha, gamma, mtauk, mtaun, mtauo, rho, g, ce, cf, ns, ntau)\n",
    "        We1=Output1[0]\n"
   ]
  },
  {
   "cell_type": "markdown",
   "metadata": {},
   "source": [
    "#### the bisection part"
   ]
  },
  {
   "cell_type": "code",
   "execution_count": 158,
   "metadata": {},
   "outputs": [
    {
     "name": "stdout",
     "output_type": "stream",
     "text": [
      "wage has converged in 23\n"
     ]
    }
   ],
   "source": [
    "# the actual Bisection part\n",
    "iconv2 = 0\n",
    "tol2 = 0.0000001\n",
    "maxit2 = 100\n",
    "it2 = 1\n",
    "while iconv2 == 0 and it2 <= maxit2:\n",
    "    w = (w_0 + w_1) / 2\n",
    "    Output = We_function(w,r, smatrix, alpha, gamma, mtauk, mtaun, mtauo, rho, g, ce, cf, ns, ntau)\n",
    "    We=Output[0]\n",
    "    if abs(We) < tol2:\n",
    "        iconv2 = 1\n",
    "        print('wage has converged in', it2)\n",
    "    else:\n",
    "        if We * We1 > 0:\n",
    "            w_1 = w\n",
    "        else:\n",
    "            w_0 = w\n",
    "        it2 = it2 + 1\n",
    "\n",
    "if it2 >= maxit2:\n",
    "    print('Warning: Zero profit condition not satisfied')"
   ]
  },
  {
   "cell_type": "code",
   "execution_count": 159,
   "metadata": {},
   "outputs": [
    {
     "data": {
      "text/plain": [
       "1.895543247461319"
      ]
     },
     "execution_count": 159,
     "metadata": {},
     "output_type": "execute_result"
    }
   ],
   "source": [
    "w"
   ]
  },
  {
   "cell_type": "markdown",
   "metadata": {},
   "source": [
    "#### decode the Output"
   ]
  },
  {
   "cell_type": "code",
   "execution_count": 160,
   "metadata": {},
   "outputs": [],
   "source": [
    "# the output sequence of the function We \n",
    "# We,k_bar,n_bar,pi_bar,W,xbar,\n",
    "We=Output[0]\n",
    "k_bar=Output[1] # optimal capital\n",
    "n_bar=Output[2] \n",
    "pi_bar=Output[3]\n",
    "W=Output[4]\n",
    "xbar=Output[5]"
   ]
  },
  {
   "cell_type": "markdown",
   "metadata": {},
   "source": [
    "### aggregate output"
   ]
  },
  {
   "cell_type": "code",
   "execution_count": 161,
   "metadata": {},
   "outputs": [
    {
     "data": {
      "text/plain": [
       "3.3450763190493875"
      ]
     },
     "execution_count": 161,
     "metadata": {},
     "output_type": "execute_result"
    }
   ],
   "source": [
    "# Compute the normalized invariant distribution of plants.\n",
    "muhat = 1 / lambda_exit * xbar * g\n",
    "\n",
    "# Find mass of entry that clears the labor market.\n",
    "N_hat = np.sum(n_bar * muhat) \n",
    "# since here multiply the muhat, We still need to multiply by the E to get the total labor\n",
    "# N*E represents the total number of workers in the economy\n",
    "E = 1 / N_hat\n",
    "mu = muhat * E\n",
    "mu_s = np.sum(mu, axis=1) # Note sum(.,2) sums over rows #100*1\n",
    "\n",
    "# Compute aggregate statistics.\n",
    "Y = np.sum(smatrix * k_bar**alpha * n_bar**gamma * mu)\n",
    "K = np.sum(k_bar * mu)\n",
    "KY = K / Y\n",
    "Kbe = K\n",
    "Y"
   ]
  },
  {
   "cell_type": "code",
   "execution_count": 162,
   "metadata": {},
   "outputs": [
    {
     "data": {
      "text/plain": [
       "0.0"
      ]
     },
     "execution_count": 162,
     "metadata": {},
     "output_type": "execute_result"
    }
   ],
   "source": [
    "A = Y / (N_hat * E) / (K / (N_hat * E)) ** alpha\n",
    "# Total factor of the production(TFP)\n",
    "# The production is DRS, but here assumes the CRS in the calculation of the TFP\n",
    "\n",
    "M = np.sum(mu)  # mass of plants producing\n",
    "sgdp=np.sum(-mtauo*smatrix*(k_bar)**alpha*(n_bar)**gamma*mu-mtauk*r*k_bar*mu-mtaun*w*n_bar*mu)/Y\n",
    "sgdp"
   ]
  },
  {
   "cell_type": "code",
   "execution_count": 163,
   "metadata": {},
   "outputs": [
    {
     "data": {
      "text/plain": [
       "17.582601483620603"
      ]
     },
     "execution_count": 163,
     "metadata": {},
     "output_type": "execute_result"
    }
   ],
   "source": [
    "# Average employment per plant (AEPP)\n",
    "normalization_emp = n_bar[0, 2]\n",
    "# let the optimal employee number of the lowest productivity plant with no tax to be 1\n",
    "rnbar = n_bar / normalization_emp\n",
    "AEPP = 1 / (M * normalization_emp)\n",
    "# since the total labor supply is 1 and the total numbers of the operating firms is M,\n",
    "# so 1/M is the average number of employee. Finally, divided by the normalization factor.\n",
    "\n",
    "# Distribution and plant statistics\n",
    "relmus = np.sum(mu, axis=1) / M #100*1\n",
    "# Recall M = np.sum(np.sum(mu))\n",
    "sK = (k_bar * mu) / K\n",
    "sN = (n_bar * mu) / (N_hat * E)\n",
    "sY = (smatrix * k_bar**alpha * n_bar**gamma * mu) / Y\n",
    "AEPP\n"
   ]
  },
  {
   "cell_type": "code",
   "execution_count": 164,
   "metadata": {},
   "outputs": [
    {
     "name": "stdout",
     "output_type": "stream",
     "text": [
      "Diego Restuccia and Richard Rogerson(2008) Benchmark without energy inputs\n",
      "\n",
      "Y: 3.3450763190493875 \n",
      "\n",
      "K: 7.789903756690352 \n",
      "\n",
      "A: 1.8698435533806295 \n",
      "\n",
      "E: 0.36894221350522405 \n",
      "\n",
      "M: 3.689368282033104 \n",
      "\n"
     ]
    }
   ],
   "source": [
    "print(\"Diego Restuccia and Richard Rogerson(2008) Benchmark without energy inputs\\n\")\n",
    "print(\"Y:\",Y,\"\\n\")\n",
    "print(\"K:\",K,\"\\n\")\n",
    "print(\"A:\",A,\"\\n\")\n",
    "print(\"E:\",E,\"\\n\")\n",
    "print(\"M:\",M,\"\\n\")"
   ]
  },
  {
   "cell_type": "code",
   "execution_count": 165,
   "metadata": {},
   "outputs": [],
   "source": [
    "ntax=5 # Number of experiments: tau=0,0.1,0.2,0.3,0.4.\n",
    "\n",
    "# Assuming rnbar, sN, and mu are predefined numpy arrays\n",
    "modeln = rnbar[:, 1]  # number of workers with lowest s in BE norm to 1\n",
    "I = np.argsort(rnbar, axis=None)\n",
    "modelnp = np.zeros((ns * ntau, ntax))\n",
    "modelnp[I,0] = rnbar.flatten()[I]\n",
    "modelsNp = np.zeros((ns * ntau, ntax))\n",
    "modelsNp[I,0] = sN.flatten()[I]\n",
    "modelmup = np.zeros((ns * ntau, ntax))\n",
    "modelmup[I,0] = mu.flatten()[I] / np.sum(mu)\n",
    "modelmu = mu[:, 1] / np.sum(mu[:, 1])  # prob dist of plants\n",
    "modelsN = sN[:, 1]"
   ]
  },
  {
   "cell_type": "markdown",
   "metadata": {},
   "source": [
    "### Initialize matrices for printing"
   ]
  },
  {
   "cell_type": "code",
   "execution_count": 166,
   "metadata": {},
   "outputs": [],
   "source": [
    "Yp = np.zeros((1, ntax))\n",
    "Kp = np.zeros((1, ntax))\n",
    "KYp = np.zeros((1, ntax))\n",
    "Ap = np.zeros((1, ntax))\n",
    "Ep = np.zeros((1, ntax))\n",
    "Mp = np.zeros((1, ntax))\n",
    "wp = np.zeros((1, ntax))\n",
    "sgdpp = np.zeros((1, ntax))\n",
    "tausp = np.zeros((1, ntax))\n",
    "SYp = np.zeros((1, ntax))\n",
    "relmup = np.zeros((ns, ntax * ntau))\n",
    "relmusp = np.zeros((ns, ntax))\n",
    "sKp = np.zeros((ns, ntax * ntau))\n",
    "sNp = np.zeros((ns, ntax * ntau))\n",
    "sYp = np.zeros((ns, ntax * ntau))\n",
    "kbarp = np.zeros((ns, ntax * ntau))\n",
    "nbarp = np.zeros((ns, ntax * ntau))\n",
    "xbarp = np.zeros((ns, ntax * ntau))\n",
    "AEPPp = np.zeros((1, ntax))\n",
    "KsKp = np.zeros((1, ntax))\n"
   ]
  },
  {
   "cell_type": "code",
   "execution_count": 167,
   "metadata": {},
   "outputs": [],
   "source": [
    "Yp[0, 0] = Y  # save the benchmark result in the first index in the Yp vector.\n",
    "Kp[0, 0] = K\n",
    "KYp[0, 0] = KY\n",
    "Mp[0, 0] = M\n",
    "Ap[0, 0] = A\n",
    "Ep[0, 0] = E\n",
    "wp[0, 0] = w\n",
    "sgdpp[0, 0] = sgdp\n",
    "AEPPp[0, 0] = AEPP\n",
    "relmusp[:, 0] = relmus\n"
   ]
  },
  {
   "cell_type": "markdown",
   "metadata": {},
   "source": [
    "### ploting"
   ]
  },
  {
   "cell_type": "code",
   "execution_count": 168,
   "metadata": {},
   "outputs": [],
   "source": [
    "I5 = np.where(modeln < 5)  # plants with less than 5 workers\n",
    "I50 = np.where((modeln >= 5) & (modeln < 50))  # plants with 5 to less than 50 workers\n",
    "Irest = np.where(modeln >= 50)  # plants with 50 workers or more\n",
    "dis_plants = np.zeros((3, ntax))\n",
    "dis_plants[0, 0] = np.sum(modelmu[I5])\n",
    "dis_plants[1, 0] = np.sum(modelmu[I50])\n",
    "dis_plants[2, 0] = np.sum(modelmu[Irest])\n",
    "dis_sN = np.zeros((3, ntax))\n",
    "dis_sN[0, 0] = np.sum(modelsN[I5])\n",
    "dis_sN[1, 0] = np.sum(modelsN[I50])\n",
    "dis_sN[2, 0] = np.sum(modelsN[Irest])"
   ]
  },
  {
   "cell_type": "code",
   "execution_count": 169,
   "metadata": {},
   "outputs": [
    {
     "data": {
      "image/png": "[encoded data removed]",
      "text/plain": [
       "<Figure size 640x480 with 2 Axes>"
      ]
     },
     "metadata": {},
     "output_type": "display_data"
    },
    {
     "data": {
      "image/png": "[encoded data removed]",
      "text/plain": [
       "<Figure size 640x480 with 1 Axes>"
      ]
     },
     "metadata": {},
     "output_type": "display_data"
    },
    {
     "data": {
      "image/png": "[encoded data removed]",
      "text/plain": [
       "<Figure size 640x480 with 1 Axes>"
      ]
     },
     "metadata": {},
     "output_type": "display_data"
    }
   ],
   "source": [
    "import numpy as np\n",
    "import matplotlib.pyplot as plt\n",
    "fig = 1\n",
    "if fig == 1:\n",
    "    plt.figure()\n",
    "    plt.subplot(2, 1, 1)\n",
    "    plt.bar(['<5', '5-50', '50 or more'], dis_plants[:, 0], width=0.5)\n",
    "    plt.title('Benchmark Economy')\n",
    "    plt.ylabel('Share of Establishments')\n",
    "    plt.subplot(2, 1, 2)\n",
    "    plt.bar(['<5', '5-50', '50 or more'], dis_sN[:, 0], width=0.5)\n",
    "    plt.xlabel('Establishment Size (by Number of Workers)')\n",
    "    plt.ylabel('Share of Employment')\n",
    "\n",
    "    plt.figure()\n",
    "    plt.plot(np.log(n_grid), np.cumsum(sY[:, 1]), '-', linewidth=2.5)\n",
    "    plt.title('Cumulative Share of Output')\n",
    "\n",
    "    plt.figure()\n",
    "    plt.plot(np.log(n_grid), np.cumsum(sN[:, 1]), linewidth=2.5)\n",
    "    plt.title('Cumulative Share of Employment')\n",
    "    plt.xlabel('log(employment)')\n",
    "\n",
    "plt.show()\n"
   ]
  },
  {
   "cell_type": "markdown",
   "metadata": {},
   "source": [
    "# the distorted economy"
   ]
  },
  {
   "cell_type": "markdown",
   "metadata": {},
   "source": [
    "## find the equilibrium"
   ]
  },
  {
   "cell_type": "code",
   "execution_count": 170,
   "metadata": {},
   "outputs": [],
   "source": [
    "from sub_We_function import Sub_We_function\n",
    "from We_function import We_function\n",
    "Output=Sub_We_function(taus,alpha, gamma, g, Kbe, lambda_exit, mtau, mtauo, mtauk, mtaun, ns, ntau, S, s_grid, smatrix, tau, rho, ce, cf, r)\n",
    "# resid, k_bar, n_bar, xbar, E, N, mu, w, Y\n",
    "# the sequence of the output_temp\n",
    "# decode the result\n",
    "resid, k_bar, n_bar, xbar, E, N, mu, w,Y =Output[0],Output[1],Output[2],Output[3],Output[4],Output[5],Output[6],Output[7],Output[8]\n",
    "\n"
   ]
  },
  {
   "cell_type": "code",
   "execution_count": 171,
   "metadata": {},
   "outputs": [
    {
     "name": "stdout",
     "output_type": "stream",
     "text": [
      "taus has converged in 21\n",
      "0.1\n",
      "0.39842936038970944\n",
      "taus has converged in 22\n",
      "0.2\n",
      "0.48267263174057\n",
      "taus has converged in 23\n",
      "0.3\n",
      "0.5159663450717926\n",
      "taus has converged in 23\n",
      "0.4\n",
      "0.5296100771427155\n"
     ]
    }
   ],
   "source": [
    "from sub_We_function import Sub_We_function\n",
    "from We_function import We_function\n",
    "type = 2\n",
    "indtaus = 1  # Set to 0 if tax only experiments (NOTE: also set sub=0)\n",
    "\n",
    "# Mass of distorted and undistorted plants. Note: nosub=sub=1/3 is the\n",
    "# uniform case and must have nsub+sub<=1.\n",
    "nosub = 0.0\n",
    "sub = 0.5\n",
    "\n",
    "taup = [0.0, 0.1, 0.2, 0.3, 0.4]\n",
    "\n",
    "for tax in range(1, ntax):\n",
    "    tau = taup[tax]\n",
    "\n",
    "    p = [[sub, nosub, (1 - nosub - sub)]] * ns\n",
    "    hsmatrix = [[theo_firm_size_dist]] * ntau\n",
    "\n",
    "    if type == 1:\n",
    "        # iid case\n",
    "        g = [[h * p for h, p in zip(theo_firm_size_dist, p)]] * ntau\n",
    "        taus0 = 0.0\n",
    "        taus1 = 0.9\n",
    "\n",
    "    elif type == 2:\n",
    "        # correlated case: subsidize a fraction sub of lowest prod plants\n",
    "        g = [[0] * ntau for _ in range(ns)]\n",
    "        cumgs = np.cumsum(theo_firm_size_dist)\n",
    "        I = np.where(cumgs <= sub)[0]\n",
    "        for i in I:\n",
    "            g[i][0] = theo_firm_size_dist[\"firms_proportion\"].iloc[i]\n",
    "        if nosub > 0:\n",
    "            I = np.where((cumgs > sub) & (cumgs <= sub + nosub))[0]\n",
    "            for i in I:\n",
    "                g[i][1] = theo_firm_size_dist[\"firms_proportion\"].iloc[i]\n",
    "        J = np.where(cumgs > nosub + sub)[0]\n",
    "        for j in J:\n",
    "            g[j][2] = theo_firm_size_dist[\"firms_proportion\"].iloc[j]\n",
    "\n",
    "        taus0 = 0.0\n",
    "        taus1 = 0.99\n",
    "\n",
    "    else:\n",
    "        # correlated case: subsidize a fraction sub of high prod plants\n",
    "        g = [[0] * ntau for _ in range(ns)]\n",
    "        cumgs = np.cumsum(theo_firm_size_dist)\n",
    "        I = np.where(cumgs <= 1 - sub - nosub)[0]\n",
    "        for i in I:\n",
    "            g[i][2] = theo_firm_size_dist[\"firms_proportion\"].iloc[i]\n",
    "        if nosub > 0:\n",
    "            I = np.where((cumgs > 1 - sub - nosub) & (cumgs <= 1 - sub))[0]\n",
    "            for i in I:\n",
    "                g[i][1] = theo_firm_size_dist[\"firms_proportion\"].iloc[i]\n",
    "        J = np.where(cumgs > 1 - sub)[0]\n",
    "        for j in J:\n",
    "            g[j][0] = theo_firm_size_dist[\"firms_proportion\"].iloc[j]\n",
    "\n",
    "        taus0 = 0.0\n",
    "        taus1 = 0.9\n",
    "\n",
    "    if indtaus == 0:\n",
    "        # Tax only computations and experiments\n",
    "        print('Computing case of tax only (no subsidy)')\n",
    "        tau = taup[tax]\n",
    "        taus0 = 0.5\n",
    "        sub = 0\n",
    "        resid = Sub_We_function(taus0,alpha, gamma, g, Kbe, lambda_exit, mtau, mtauo, mtauk, mtaun, ns, ntau, S, s_grid, smatrix, tau, rho, ce, cf, r)[0]\n",
    "    else:\n",
    "        resid0 = Sub_We_function(taus0,alpha, gamma, g, Kbe, lambda_exit, mtau, mtauo, mtauk, mtaun, ns, ntau, S, s_grid, smatrix, tau, rho, ce, cf, r)[0]\n",
    "        resid1 = Sub_We_function(taus1,alpha, gamma, g, Kbe, lambda_exit, mtau, mtauo, mtauk, mtaun, ns, ntau, S, s_grid, smatrix, tau, rho, ce, cf, r)[0]\n",
    "\n",
    "        if resid0 * resid1 > 0:\n",
    "            print('WARNING: No equilibrium tau exists')\n",
    "            break\n",
    "        else:\n",
    "            iconv4 = 0\n",
    "            tol4 = 0.0000001\n",
    "            maxit4 = 100\n",
    "            it4 = 1\n",
    "\n",
    "            while iconv4 == 0 and it4 <= maxit4:\n",
    "                taus = (taus0 + taus1) / 2\n",
    "                Output = Sub_We_function(taus,alpha, gamma, g, Kbe, lambda_exit, mtau, mtauo, mtauk, mtaun, ns, ntau, S, s_grid, smatrix, tau, rho, ce, cf, r)\n",
    "                resid=Output[0]\n",
    "                if abs(resid) < tol4:\n",
    "                    iconv4 = 1\n",
    "                    print('taus has converged in', it4)\n",
    "                    print(tau)\n",
    "                    print(taus)\n",
    "                else:\n",
    "                    if resid1 * resid > 0:\n",
    "                        taus1 = taus\n",
    "                    else:\n",
    "                        taus0 = taus\n",
    "                    it4 += 1\n",
    "                    if it4 > maxit4:\n",
    "                        print('taus has not converged in', maxit4)\n",
    "    # decode the result\n",
    "    resid, k_bar, n_bar, xbar, E, N, mu, w,Y =Output[0],Output[1],Output[2],Output[3],Output[4],Output[5],Output[6],Output[7],Output[8]\n",
    "    \n",
    "    # Compute aggregate statistics\n",
    "    Y = np.sum(np.sum(smatrix * k_bar**alpha * n_bar**gamma * mu))\n",
    "    K = np.sum(np.sum(k_bar * mu))\n",
    "    Yp[0, tax] = Y\n",
    "    Kp[0, tax] = K\n",
    "    KYp[0, tax] = K / Y\n",
    "    A = Y / (N * E) / (K / (N * E))**alpha\n",
    "    Ap[0, tax] = A\n",
    "    Ep[0, tax] = E\n",
    "    M = np.sum(np.sum(mu))\n",
    "    Mp[0, tax] = M\n",
    "    wp[0, tax] = w\n",
    "    sgdpp[0, tax] = np.sum(-mtauo[:, 0] * smatrix[:, 0] * k_bar[:, 0]**alpha * n_bar[:, 0]**gamma * mu[:, 0] - mtauk[:, 0] * r * k_bar[:, 0] * mu[:, 0] - mtaun[:, 0] * w * n_bar[:, 0] * mu[:, 0]) / Y\n",
    "    tausp[0, tax] = taus\n",
    "\n",
    "    Ytau = np.sum(smatrix * k_bar**alpha * n_bar**gamma * mu, axis=0)\n",
    "    sYtau = Ytau / Y\n",
    "    SYp[0, tax] = sYtau[0]\n",
    "    sKtau = np.sum(k_bar * mu,axis=0) / K\n",
    "    KsKp[0, tax] = sKtau[0]\n",
    "\n",
    "    # Distribution statistics\n",
    "    relmup[:, ntau*(tax):ntau*(tax+1)] = mu / np.sum(np.sum(mu))\n",
    "    relmus = np.sum(mu, axis=1) / np.sum(np.sum(mu))\n",
    "    relmusp[:, tax] = relmus\n",
    "    sK = (k_bar * mu) / K\n",
    "    sKp[:, ntau*(tax):ntau*(tax+1)] = sK\n",
    "    sN = (n_bar * mu) / (N * E)\n",
    "    sNp[:, ntau*(tax):ntau*(tax+1)] = sN\n",
    "    sY = (smatrix * k_bar**alpha * n_bar**gamma * mu) / Y\n",
    "    sYp[:, ntau*(tax):ntau*(tax+1)] = sY\n",
    "\n",
    "    # Plant statistics\n",
    "    kbarp[:, ntau*(tax):ntau*(tax+1)] = k_bar\n",
    "    nbarp[:, ntau*(tax):ntau*(tax+1)] = n_bar\n",
    "    xbarp[:, ntau*(tax):ntau*(tax+1)] = xbar\n",
    "\n",
    "    rnbar = n_bar / normalization_emp\n",
    "    I = np.argsort(rnbar.flatten())\n",
    "    modelnp[:, tax] = rnbar.flatten()[I]\n",
    "    modelsNp[:, tax] = sN.flatten()[I]\n",
    "    modelmup[:, tax] = mu.flatten()[I] / np.sum(mu)\n",
    "\n",
    "    # Average employment per plant\n",
    "    AEPP = 1 / (M * normalization_emp)\n",
    "    AEPPp[0, tax] = AEPP\n"
   ]
  }
 ],
 "metadata": {
  "kernelspec": {
   "display_name": "thesis",
   "language": "python",
   "name": "python3"
  },
  "language_info": {
   "codemirror_mode": {
    "name": "ipython",
    "version": 3
   },
   "file_extension": ".py",
   "mimetype": "text/x-python",
   "name": "python",
   "nbconvert_exporter": "python",
   "pygments_lexer": "ipython3",
   "version": "3.11.5"
  }
 },
 "nbformat": 4,
 "nbformat_minor": 2
}
